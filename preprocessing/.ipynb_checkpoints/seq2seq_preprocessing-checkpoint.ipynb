{
 "cells": [
  {
   "cell_type": "code",
   "execution_count": 1,
   "id": "6120c176-7bb0-4a2c-b50e-e5fe3f2cf850",
   "metadata": {
    "tags": [],
    "colab": {
     "referenced_widgets": [
      "53b1020c19c946e3bab2b72323823dcd"
     ]
    },
    "id": "6120c176-7bb0-4a2c-b50e-e5fe3f2cf850",
    "outputId": "27c14bc8-5576-4932-9b45-be3f12150860",
    "pycharm": {
     "name": "#%%\n"
    }
   },
   "outputs": [],
   "source": [
    "import torch\n",
    "import torch.distributed as dist\n",
    "import torch.multiprocessing as mp\n",
    "from transformers import pipeline\n",
    "from transformers.pipelines.pt_utils import KeyDataset\n",
    "import datasets\n",
    "from transformers import (\n",
    "    AutoConfig,\n",
    "    AutoModelForSeq2SeqLM,\n",
    "    AutoTokenizer,\n",
    "    DataCollatorForSeq2Seq,\n",
    "    HfArgumentParser,\n",
    "    M2M100Tokenizer,\n",
    "    MBart50Tokenizer,\n",
    "    MBart50TokenizerFast,\n",
    "    MBartTokenizer,\n",
    "    MBartTokenizerFast,\n",
    "    Seq2SeqTrainer,\n",
    "    Seq2SeqTrainingArguments,\n",
    "    default_data_collator,\n",
    "    set_seed,\n",
    ")\n",
    "from transformers.trainer_utils import get_last_checkpoint\n",
    "from transformers.utils import check_min_version, send_example_telemetry\n",
    "from transformers.utils.versions import require_version\n",
    "import torch.nn.functional as F\n",
    "from datasets import load_dataset\n",
    "import re\n",
    "import csv\n",
    "from tqdm import tqdm"
   ]
  },
  {
   "cell_type": "code",
   "source": [
    "path_to_model = \"\"\n",
    "path_to_train_dataset = \"\"\n",
    "path_to_output = \"\""
   ],
   "metadata": {
    "id": "2ifIjtO_cFpu",
    "pycharm": {
     "name": "#%%\n"
    }
   },
   "id": "2ifIjtO_cFpu",
   "execution_count": null,
   "outputs": []
  },
  {
   "cell_type": "code",
   "source": [
    "generation_config = dict(\n",
    "    max_length=4096,\n",
    "    min_length=None,\n",
    "    do_sample=False,\n",
    "    early_stopping=True,\n",
    "    num_beams=1,\n",
    "    temperature=15.0,\n",
    "    top_k=None,\n",
    "    top_p=None,\n",
    "    length_penalty=1.0,\n",
    "    num_return_sequences=3,\n",
    "    max_time=None,\n",
    "    num_beam_groups=1,\n",
    "    output_scores=False,\n",
    ")\n",
    "\n",
    "rank = 0\n",
    "model_path = path_to_model\n",
    "\n",
    "_tokenizer = AutoTokenizer.from_pretrained(model_path)\n",
    "_model = AutoModelForSeq2SeqLM.from_pretrained(model_path)\n",
    "pipe = pipeline(\"translation\", model = _model, config = generation_config, batch_size=1, tokenizer = _tokenizer, max_length = 4096)\n",
    "\n",
    "# create a dataloader\n",
    "dataset = load_dataset(\"csv\", data_files=path_to_train_dataset)\n",
    "with open(path_to_output, \"w\") as f:\n",
    "        writer = csv.writer(f)\n",
    "        for out in tqdm(pipe(KeyDataset(dataset['train'], \"source\"), batch_size=8, truncation=\"only_first\")):\n",
    "            writer.writerow(out[0][\"translation_text\"])\n"
   ],
   "metadata": {
    "id": "s0tqxWpRcEY_",
    "pycharm": {
     "name": "#%%\n"
    }
   },
   "id": "s0tqxWpRcEY_",
   "execution_count": 2,
   "outputs": [
    {
     "ename": "NameError",
     "evalue": "name 'path_to_model' is not defined",
     "output_type": "error",
     "traceback": [
      "\u001B[1;31m---------------------------------------------------------------------------\u001B[0m",
      "\u001B[1;31mNameError\u001B[0m                                 Traceback (most recent call last)",
      "Cell \u001B[1;32mIn[2], line 18\u001B[0m\n\u001B[0;32m      1\u001B[0m generation_config \u001B[38;5;241m=\u001B[39m \u001B[38;5;28mdict\u001B[39m(\n\u001B[0;32m      2\u001B[0m     max_length\u001B[38;5;241m=\u001B[39m\u001B[38;5;241m4096\u001B[39m,\n\u001B[0;32m      3\u001B[0m     min_length\u001B[38;5;241m=\u001B[39m\u001B[38;5;28;01mNone\u001B[39;00m,\n\u001B[1;32m   (...)\u001B[0m\n\u001B[0;32m     14\u001B[0m     output_scores\u001B[38;5;241m=\u001B[39m\u001B[38;5;28;01mFalse\u001B[39;00m,\n\u001B[0;32m     15\u001B[0m )\n\u001B[0;32m     17\u001B[0m rank \u001B[38;5;241m=\u001B[39m \u001B[38;5;241m0\u001B[39m\n\u001B[1;32m---> 18\u001B[0m model_path \u001B[38;5;241m=\u001B[39m \u001B[43mpath_to_model\u001B[49m\n\u001B[0;32m     20\u001B[0m _tokenizer \u001B[38;5;241m=\u001B[39m AutoTokenizer\u001B[38;5;241m.\u001B[39mfrom_pretrained(model_path)\n\u001B[0;32m     21\u001B[0m _model \u001B[38;5;241m=\u001B[39m AutoModelForSeq2SeqLM\u001B[38;5;241m.\u001B[39mfrom_pretrained(model_path)\n",
      "\u001B[1;31mNameError\u001B[0m: name 'path_to_model' is not defined"
     ]
    }
   ]
  }
 ],
 "metadata": {
  "kernelspec": {
   "display_name": "Python 3 (ipykernel)",
   "language": "python",
   "name": "python3"
  },
  "language_info": {
   "codemirror_mode": {
    "name": "ipython",
    "version": 3
   },
   "file_extension": ".py",
   "mimetype": "text/x-python",
   "name": "python",
   "nbconvert_exporter": "python",
   "pygments_lexer": "ipython3",
   "version": "3.9.1"
  },
  "colab": {
   "provenance": []
  }
 },
 "nbformat": 4,
 "nbformat_minor": 5
}